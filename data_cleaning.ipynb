{
 "cells": [
  {
   "cell_type": "code",
   "execution_count": 52,
   "id": "b8e00466-704c-404b-893c-2f7827bc8a64",
   "metadata": {},
   "outputs": [],
   "source": [
    "import matplotlib.pyplot as plt\n",
    "import seaborn as sns\n",
    "import pandas as pd\n",
    "import numpy as np\n",
    "\n"
   ]
  },
  {
   "cell_type": "code",
   "execution_count": 53,
   "id": "96a13250-5386-44c0-b4be-f9b953f6883b",
   "metadata": {},
   "outputs": [],
   "source": [
    "measurments_df = pd.read_csv('measurements.csv')"
   ]
  },
  {
   "cell_type": "code",
   "execution_count": 54,
   "id": "32639cf1-d2c2-4c0f-86cc-a66e4d5f5813",
   "metadata": {},
   "outputs": [
    {
     "name": "stdout",
     "output_type": "stream",
     "text": [
      "                                         school_name  download_speed  \\\n",
      "0                                         Letlhabile            9.48   \n",
      "1                        Carapichaima East Secondary            6.79   \n",
      "2  КГУ \"Общеобразовательная средняя школа №39 име...            0.18   \n",
      "3                                St Joseph Secondary           27.56   \n",
      "4                   St. Augustine Girls' High School           55.36   \n",
      "\n",
      "   upload_speed  latency              country  \n",
      "0          8.92       23             Botswana  \n",
      "1         13.23      103  Trinidad and Tobago  \n",
      "2          0.42      313           Kazakhstan  \n",
      "3         18.04      118  Trinidad and Tobago  \n",
      "4          5.01      160  Trinidad and Tobago  \n"
     ]
    }
   ],
   "source": [
    "columns_to_keep = ['school_name', 'download_speed', 'upload_speed', 'latency', 'country']\n",
    "filtered_df = measurments_df[columns_to_keep]\n",
    "print(filtered_df.head())"
   ]
  },
  {
   "cell_type": "code",
   "execution_count": 55,
   "id": "0191033f-f3f1-4641-b120-04d75a337172",
   "metadata": {},
   "outputs": [
    {
     "name": "stdout",
     "output_type": "stream",
     "text": [
      "                                         school_name  download_speed  \\\n",
      "0                                         Letlhabile            9.48   \n",
      "2  КГУ \"Общеобразовательная средняя школа №39 име...            0.18   \n",
      "5                                    Solomon Dihutso          101.87   \n",
      "6                                             Sekoma           17.61   \n",
      "7                          9,Khujayli,Karakalpakstan           27.02   \n",
      "\n",
      "   upload_speed  latency     country  \n",
      "0          8.92       23    Botswana  \n",
      "2          0.42      313  Kazakhstan  \n",
      "5         89.67       10    Botswana  \n",
      "6         19.59       39    Botswana  \n",
      "7         25.70      244  Uzbekistan  \n"
     ]
    }
   ],
   "source": [
    "countries_to_filter = ['Kazakhstan','Sri Lanka','Bosnia and Herzegovina','Saint Vincent and the Grenadines','Mongolia','Fiji','Uzbekistan','Botswana','Namibia','Kenya','Rwanda']\n",
    "filtered_rows = filtered_df[filtered_df['country'].isin(countries_to_filter)]\n",
    "print(filtered_rows.head())"
   ]
  },
  {
   "cell_type": "code",
   "execution_count": 56,
   "id": "22507545-bbdb-43d8-8226-36385561910a",
   "metadata": {},
   "outputs": [
    {
     "name": "stdout",
     "output_type": "stream",
     "text": [
      "Number of entries after filtering: 552850\n"
     ]
    }
   ],
   "source": [
    "num = len(filtered_rows)\n",
    "print(f\"Number of entries after filtering: {num}\")"
   ]
  },
  {
   "cell_type": "code",
   "execution_count": 57,
   "id": "939c4f6a-233d-472b-8906-01018e935c36",
   "metadata": {},
   "outputs": [
    {
     "name": "stdout",
     "output_type": "stream",
     "text": [
      "<class 'pandas.core.frame.DataFrame'>\n",
      "Int64Index: 552850 entries, 0 to 566879\n",
      "Data columns (total 5 columns):\n",
      " #   Column          Non-Null Count   Dtype  \n",
      "---  ------          --------------   -----  \n",
      " 0   school_name     552850 non-null  object \n",
      " 1   download_speed  552843 non-null  float64\n",
      " 2   upload_speed    552850 non-null  float64\n",
      " 3   latency         552850 non-null  int64  \n",
      " 4   country         552850 non-null  object \n",
      "dtypes: float64(2), int64(1), object(2)\n",
      "memory usage: 25.3+ MB\n",
      "None\n",
      "school_name       0\n",
      "download_speed    7\n",
      "upload_speed      0\n",
      "latency           0\n",
      "country           0\n",
      "dtype: int64\n"
     ]
    }
   ],
   "source": [
    "print(filtered_rows.info())\n",
    "print(filtered_rows.isnull().sum())\n"
   ]
  },
  {
   "cell_type": "code",
   "execution_count": 58,
   "id": "e583bf10-2771-451f-833e-e8201275098d",
   "metadata": {},
   "outputs": [
    {
     "name": "stdout",
     "output_type": "stream",
     "text": [
      "<class 'pandas.core.frame.DataFrame'>\n",
      "Int64Index: 552843 entries, 0 to 566879\n",
      "Data columns (total 5 columns):\n",
      " #   Column          Non-Null Count   Dtype  \n",
      "---  ------          --------------   -----  \n",
      " 0   school_name     552843 non-null  object \n",
      " 1   download_speed  552843 non-null  float64\n",
      " 2   upload_speed    552843 non-null  float64\n",
      " 3   latency         552843 non-null  int64  \n",
      " 4   country         552843 non-null  object \n",
      "dtypes: float64(2), int64(1), object(2)\n",
      "memory usage: 25.3+ MB\n",
      "None\n"
     ]
    }
   ],
   "source": [
    "filtered_rows = filtered_rows.dropna(subset=['download_speed'])\n",
    "print(filtered_rows.info())\n"
   ]
  },
  {
   "cell_type": "code",
   "execution_count": 59,
   "id": "9f87f663-b405-4fa2-aac2-1099a23506d9",
   "metadata": {},
   "outputs": [
    {
     "name": "stdout",
     "output_type": "stream",
     "text": [
      "Requirement already satisfied: pandas in d:\\anaconda\\lib\\site-packages (1.5.3)\n",
      "Requirement already satisfied: openpyxl in d:\\anaconda\\lib\\site-packages (3.0.10)\n",
      "Requirement already satisfied: python-dateutil>=2.8.1 in d:\\anaconda\\lib\\site-packages (from pandas) (2.8.2)\n",
      "Requirement already satisfied: pytz>=2020.1 in d:\\anaconda\\lib\\site-packages (from pandas) (2023.3.post1)\n",
      "Requirement already satisfied: numpy>=1.21.0 in d:\\anaconda\\lib\\site-packages (from pandas) (1.24.4)\n",
      "Requirement already satisfied: et_xmlfile in d:\\anaconda\\lib\\site-packages (from openpyxl) (1.1.0)\n",
      "Requirement already satisfied: six>=1.5 in d:\\anaconda\\lib\\site-packages (from python-dateutil>=2.8.1->pandas) (1.16.0)\n",
      "Note: you may need to restart the kernel to use updated packages.\n"
     ]
    }
   ],
   "source": [
    "pip install pandas openpyxl\n"
   ]
  },
  {
   "cell_type": "code",
   "execution_count": 63,
   "id": "bd892d97-6980-4f2f-87fa-51f39b1dc0ad",
   "metadata": {},
   "outputs": [],
   "source": [
    "hdi_df = pd.read_excel('CleanedHdi.xlsx')"
   ]
  },
  {
   "cell_type": "code",
   "execution_count": 67,
   "id": "e1a8861e-edf7-4ad7-b85f-f8839b06d92a",
   "metadata": {},
   "outputs": [
    {
     "name": "stdout",
     "output_type": "stream",
     "text": [
      "                          Countries  Human Development Index (HDI)   \\\n",
      "0                        Kazakhstan                           0.802   \n",
      "1                         Sri Lanka                           0.780   \n",
      "2            Bosnia and Herzegovina                           0.779   \n",
      "3  Saint Vincent and the Grenadines                           0.772   \n",
      "4                          Mongolia                           0.741   \n",
      "\n",
      "   Gross national income (GNI) per capita  HDI rank  \n",
      "0                             22586.79889        65  \n",
      "1                             11899.49847        76  \n",
      "2                             16571.41275        77  \n",
      "3                             14049.14799        80  \n",
      "4                             10350.86141        99  \n"
     ]
    }
   ],
   "source": [
    "print(hdi_df.head())"
   ]
  },
  {
   "cell_type": "code",
   "execution_count": 79,
   "id": "6fdf9c3b-3739-4139-b6e0-33b01b5e9e2c",
   "metadata": {},
   "outputs": [
    {
     "name": "stdout",
     "output_type": "stream",
     "text": [
      "                            country  Human Development Index (HDI)   \\\n",
      "0                        Kazakhstan                           0.802   \n",
      "1                         Sri Lanka                           0.780   \n",
      "2            Bosnia and Herzegovina                           0.779   \n",
      "3  Saint Vincent and the Grenadines                           0.772   \n",
      "4                          Mongolia                           0.741   \n",
      "\n",
      "   Gross national income (GNI) per capita  HDI rank  \n",
      "0                             22586.79889        65  \n",
      "1                             11899.49847        76  \n",
      "2                             16571.41275        77  \n",
      "3                             14049.14799        80  \n",
      "4                             10350.86141        99  \n"
     ]
    }
   ],
   "source": [
    "hdi_df.rename(columns={'Countries': 'country'}, inplace=True)\n",
    "print(hdi_df.head())\n"
   ]
  },
  {
   "cell_type": "code",
   "execution_count": 80,
   "id": "af073e2e-57f7-4761-a675-4b6304de0675",
   "metadata": {},
   "outputs": [
    {
     "name": "stdout",
     "output_type": "stream",
     "text": [
      "       school_name  download_speed  upload_speed  latency   country  \\\n",
      "0       Letlhabile            9.48          8.92       23  Botswana   \n",
      "1  Solomon Dihutso          101.87         89.67       10  Botswana   \n",
      "2           Sekoma           17.61         19.59       39  Botswana   \n",
      "3        Kumakwane          146.76        162.07       16  Botswana   \n",
      "4         Moamogwe          111.44         96.18       11  Botswana   \n",
      "\n",
      "   Human Development Index (HDI)   Gross national income (GNI) per capita  \\\n",
      "0                           0.708                             14841.57836   \n",
      "1                           0.708                             14841.57836   \n",
      "2                           0.708                             14841.57836   \n",
      "3                           0.708                             14841.57836   \n",
      "4                           0.708                             14841.57836   \n",
      "\n",
      "   HDI rank  \n",
      "0       124  \n",
      "1       124  \n",
      "2       124  \n",
      "3       124  \n",
      "4       124  \n"
     ]
    }
   ],
   "source": [
    "merged_df = pd.merge(filtered_rows, hdi_df, on='country', how='inner')\n",
    "print(merged_df.head())\n"
   ]
  },
  {
   "cell_type": "code",
   "execution_count": 85,
   "id": "1268e35e-b931-4687-8a28-c2043aa3c368",
   "metadata": {},
   "outputs": [
    {
     "name": "stdout",
     "output_type": "stream",
     "text": [
      "Index(['school_name', 'download_speed', 'upload_speed', 'latency', 'country',\n",
      "       'Human Development Index (HDI) ',\n",
      "       'Gross national income (GNI) per capita', 'HDI rank'],\n",
      "      dtype='object')\n"
     ]
    }
   ],
   "source": [
    "print(merged_df.columns)\n"
   ]
  },
  {
   "cell_type": "code",
   "execution_count": 87,
   "id": "08fa7a1e-6ee4-4584-892b-a2165c6d0a0d",
   "metadata": {},
   "outputs": [],
   "source": [
    "from sklearn.preprocessing import MinMaxScaler\n",
    "scaler = MinMaxScaler()\n",
    "\n",
    "merged_df[['download_speed', 'upload_speed', 'latency', \n",
    "           'Human Development Index (HDI) ', \n",
    "           'Gross national income (GNI) per capita',\n",
    "           'HDI rank']] = scaler.fit_transform(\n",
    "    merged_df[['download_speed', 'upload_speed', 'latency', \n",
    "               'Human Development Index (HDI) ', \n",
    "               'Gross national income (GNI) per capita',\n",
    "               'HDI rank']]\n",
    ")"
   ]
  },
  {
   "cell_type": "code",
   "execution_count": 88,
   "id": "9abfa3c2-ee7f-4b9c-8500-d5d1601cc132",
   "metadata": {},
   "outputs": [
    {
     "name": "stdout",
     "output_type": "stream",
     "text": [
      "                           school_name  country  priority_score\n",
      "431493           PALOTAKA REFUGEE CAMP    Kenya        0.909267\n",
      "514036  Sauyemwa Junior Primary School  Namibia        0.895112\n",
      "512911          Rucara Combined School  Namibia        0.895088\n",
      "426851                  EFA Nyagahanga   Rwanda        0.892747\n",
      "514034  Sauyemwa Junior Primary School  Namibia        0.795303\n"
     ]
    }
   ],
   "source": [
    "# priority score\n",
    "merged_df['priority_score'] = (\n",
    "    (1 - merged_df['Human Development Index (HDI) ']) * 0.4 +  # Low HDI = higher priority\n",
    "    (1 - merged_df['download_speed']) * 0.2 +                 # Low download speed = higher priority\n",
    "    (1 - merged_df['upload_speed']) * 0.2 +                   # Low upload speed = higher priority\n",
    "    merged_df['latency'] * 0.2                                # High latency = higher priority\n",
    ")\n",
    "\n",
    "merged_df = merged_df.sort_values(by='priority_score', ascending=False)\n",
    "\n",
    "\n",
    "print(merged_df[['school_name', 'country', 'priority_score']].head())"
   ]
  },
  {
   "cell_type": "code",
   "execution_count": 89,
   "id": "9f7cc8fa-6622-4c54-8249-177e2ee9a91d",
   "metadata": {},
   "outputs": [
    {
     "name": "stdout",
     "output_type": "stream",
     "text": [
      "                           school_name  country  priority_score\n",
      "431493           PALOTAKA REFUGEE CAMP    Kenya        0.909267\n",
      "514036  Sauyemwa Junior Primary School  Namibia        0.895112\n",
      "512911          Rucara Combined School  Namibia        0.895088\n",
      "426851                  EFA Nyagahanga   Rwanda        0.892747\n",
      "514034  Sauyemwa Junior Primary School  Namibia        0.795303\n",
      "...                                ...      ...             ...\n",
      "429730                          TIGONI    Kenya        0.700334\n",
      "429657                          TIGONI    Kenya        0.700249\n",
      "430612                          TIGONI    Kenya        0.700132\n",
      "429879                          TIGONI    Kenya        0.700118\n",
      "431596                          TIGONI    Kenya        0.700060\n",
      "\n",
      "[9768 rows x 3 columns]\n"
     ]
    }
   ],
   "source": [
    "high_priority = merged_df[merged_df['priority_score'] > 0.7]\n",
    "print(high_priority[['school_name', 'country', 'priority_score']])\n"
   ]
  },
  {
   "cell_type": "code",
   "execution_count": 90,
   "id": "666a26df-3a2f-4931-85d2-6e099be17da4",
   "metadata": {},
   "outputs": [
    {
     "data": {
      "image/png": "[encoded data removed]",
      "text/plain": [
       "<Figure size 1000x600 with 1 Axes>"
      ]
     },
     "metadata": {},
     "output_type": "display_data"
    }
   ],
   "source": [
    "avg_priority_by_country = merged_df.groupby('country')['priority_score'].mean()\n",
    "\n",
    "avg_priority_by_country.sort_values().plot(kind='barh', figsize=(10, 6), color='skyblue')\n",
    "plt.title('Average Priority Score by Country')\n",
    "plt.xlabel('Priority Score')\n",
    "plt.ylabel('Country')\n",
    "plt.show()\n"
   ]
  },
  {
   "cell_type": "code",
   "execution_count": 91,
   "id": "80fcfdff-d204-4237-9915-99c9acdce38a",
   "metadata": {},
   "outputs": [
    {
     "data": {
      "image/png": "[encoded data removed]",
      "text/plain": [
       "<Figure size 640x480 with 2 Axes>"
      ]
     },
     "metadata": {},
     "output_type": "display_data"
    }
   ],
   "source": [
    "plt.scatter(merged_df['Human Development Index (HDI) '], merged_df['download_speed'], \n",
    "            c=merged_df['priority_score'], cmap='viridis')\n",
    "plt.colorbar(label='Priority Score')\n",
    "plt.title('HDI vs Download Speed')\n",
    "plt.xlabel('HDI')\n",
    "plt.ylabel('Download Speed')\n",
    "plt.show()\n"
   ]
  },
  {
   "cell_type": "code",
   "execution_count": 93,
   "id": "8ed4cf8c-b17f-4851-8d31-5ed6ff2706b3",
   "metadata": {},
   "outputs": [
    {
     "name": "stdout",
     "output_type": "stream",
     "text": [
      "                                  download_speed  upload_speed   latency  \\\n",
      "country                                                                    \n",
      "Bosnia and Herzegovina                  0.070126      0.008072  0.001067   \n",
      "Botswana                                0.057127      0.014609  0.000197   \n",
      "Fiji                                    0.042442      0.002468  0.000387   \n",
      "Kazakhstan                              0.043877      0.005450  0.000218   \n",
      "Kenya                                   0.039739      0.004271  0.000293   \n",
      "Mongolia                                0.050669      0.010066  0.000232   \n",
      "Namibia                                 0.038626      0.001148  0.000914   \n",
      "Rwanda                                  0.041130      0.003186  0.000111   \n",
      "Saint Vincent and the Grenadines        0.049587      0.007988  0.000027   \n",
      "Sri Lanka                               0.061598      0.011479  0.000147   \n",
      "Uzbekistan                              0.050957      0.010356  0.000162   \n",
      "\n",
      "                                  Human Development Index (HDI)   \\\n",
      "country                                                            \n",
      "Bosnia and Herzegovina                                  0.909449   \n",
      "Botswana                                                0.629921   \n",
      "Fiji                                                    0.712598   \n",
      "Kazakhstan                                              1.000000   \n",
      "Kenya                                                   0.208661   \n",
      "Mongolia                                                0.759843   \n",
      "Namibia                                                 0.244094   \n",
      "Rwanda                                                  0.000000   \n",
      "Saint Vincent and the Grenadines                        0.881890   \n",
      "Sri Lanka                                               0.913386   \n",
      "Uzbekistan                                              0.704724   \n",
      "\n",
      "                                  priority_score  \n",
      "country                                           \n",
      "Bosnia and Herzegovina                  0.420794  \n",
      "Botswana                                0.533724  \n",
      "Fiji                                    0.506056  \n",
      "Kazakhstan                              0.390178  \n",
      "Kenya                                   0.707792  \n",
      "Mongolia                                0.483962  \n",
      "Namibia                                 0.694590  \n",
      "Rwanda                                  0.791159  \n",
      "Saint Vincent and the Grenadines        0.435734  \n",
      "Sri Lanka                               0.420060  \n",
      "Uzbekistan                              0.505880  \n"
     ]
    }
   ],
   "source": [
    "summary = merged_df.groupby('country').agg({\n",
    "    'download_speed': 'mean',\n",
    "    'upload_speed': 'mean',\n",
    "    'latency': 'mean',\n",
    "    'Human Development Index (HDI) ': 'mean',\n",
    "    'priority_score': 'mean'\n",
    "})\n",
    "print(summary)\n"
   ]
  },
  {
   "cell_type": "code",
   "execution_count": null,
   "id": "09c41667-bc15-4062-9040-8cc53a264187",
   "metadata": {},
   "outputs": [],
   "source": []
  }
 ],
 "metadata": {
  "kernelspec": {
   "display_name": "Python 3 (ipykernel)",
   "language": "python",
   "name": "python3"
  },
  "language_info": {
   "codemirror_mode": {
    "name": "ipython",
    "version": 3
   },
   "file_extension": ".py",
   "mimetype": "text/x-python",
   "name": "python",
   "nbconvert_exporter": "python",
   "pygments_lexer": "ipython3",
   "version": "3.11.7"
  }
 },
 "nbformat": 4,
 "nbformat_minor": 5
}
